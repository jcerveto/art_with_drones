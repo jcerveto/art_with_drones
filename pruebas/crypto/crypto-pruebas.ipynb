{
 "cells": [
  {
   "cell_type": "code",
   "execution_count": 23,
   "id": "6ebde47e",
   "metadata": {},
   "outputs": [],
   "source": [
    "from cryptography.hazmat.primitives import serialization\n",
    "from cryptography.hazmat.primitives.asymmetric import rsa, padding\n",
    "from cryptography.hazmat.backends import default_backend\n",
    "from cryptography.hazmat.primitives.ciphers import Cipher, algorithms, modes\n",
    "from cryptography.hazmat.primitives import hashes\n",
    "from cryptography.hazmat.primitives.kdf.pbkdf2 import PBKDF2HMAC\n",
    "import os\n",
    "\n",
    "def generate_key_pair():\n",
    "    private_key = rsa.generate_private_key(\n",
    "        public_exponent=65537,\n",
    "        key_size=2048,\n",
    "        backend=default_backend()\n",
    "    )\n",
    "    public_key = private_key.public_key()\n",
    "\n",
    "    return private_key, public_key\n",
    "\n",
    "def encrypt_data(public_key, plaintext):\n",
    "    ciphertext = public_key.encrypt(\n",
    "        plaintext.encode(),\n",
    "        padding.OAEP(\n",
    "            mgf=padding.MGF1(algorithm=hashes.SHA256()),\n",
    "            algorithm=hashes.SHA256(),\n",
    "            label=None\n",
    "        )\n",
    "    )\n",
    "    return ciphertext\n",
    "\n",
    "def decrypt_data(private_key, ciphertext):\n",
    "    plaintext = private_key.decrypt(\n",
    "        ciphertext,\n",
    "        padding.OAEP(\n",
    "            mgf=padding.MGF1(algorithm=hashes.SHA256()),\n",
    "            algorithm=hashes.SHA256(),\n",
    "            label=None\n",
    "        )\n",
    "    )\n",
    "    return plaintext.decode()\n",
    "\n",
    "def save_key_to_pem(key, key_type, filename, password=None):\n",
    "    key_bytes = key.private_bytes(\n",
    "        encoding=serialization.Encoding.PEM,\n",
    "        format=serialization.PrivateFormat.PKCS8,\n",
    "        encryption_algorithm=serialization.BestAvailableEncryption(password) if password else serialization.NoEncryption()\n",
    "    ) if key_type == 'private' else key.public_bytes(\n",
    "        encoding=serialization.Encoding.PEM,\n",
    "        format=serialization.PublicFormat.SubjectPublicKeyInfo\n",
    "    )\n",
    "\n",
    "    with open(filename, 'wb') as f:\n",
    "        f.write(key_bytes)\n",
    "        \n",
    "def read_private_key_from_pem(file_path, password=None):\n",
    "    with open(file_path, 'rb') as f:\n",
    "        private_key = serialization.load_pem_private_key(\n",
    "            f.read(),\n",
    "            password=password,\n",
    "            backend=default_backend()\n",
    "        )\n",
    "    return private_key\n",
    "\n",
    "def read_public_key_from_pem(file_path):\n",
    "    with open(file_path, 'rb') as f:\n",
    "        public_key = serialization.load_pem_public_key(\n",
    "            f.read(),\n",
    "            backend=default_backend()\n",
    "        )\n",
    "    return public_key\n"
   ]
  },
  {
   "cell_type": "code",
   "execution_count": 34,
   "id": "f18f9c0b",
   "metadata": {},
   "outputs": [
    {
     "name": "stdout",
     "output_type": "stream",
     "text": [
      "Mensaje cifrado: b'Fn\\x8cRrT$cl>\\x94\\xf0\\xb78\\x0e\\xe3\\x1b\\xfc\\x96\\x08z\\x9b\\x056\\xf0\\x89\\xc4\\xf2f\\x1c{\\xa9Q\\xad\\x8e\\xb0\\xdc\\x8ek\\xf3\\x0f\\x9a#\\xbe\\x08\\x04\\xa8\\xce\\xe6\\x99\\x8a\\xa3\\xb7g\\xcb\\xe4&\\xcfU3\\xcb\\xf5\\'\\xc38\\xb2a\\xbe5\\xe8]\\x03\\xb5\\x90_\\xe0\\xa3\\x13\\\\\\xab\\xcftso\\x0c\\x1b\\x81\\xea-\\n&\\xa1\\x08\\xb2\\x19E\\xd2\\x06C\\x8c\\xb4\\x13U\\xac\\xde\\x18\\x82\\xb8\\xd3!\\x8c9gzF\\xf8p\\xe8\\xacT\\x04C\\x86y\\xc4\\x12\\'\\xef\\xb3\\xa6\\x8c\\xef\\\\\\x8d*l\\x0ez\\xac:\\xcb\\xe6t\\x8a\\xc0Tst\\xdb\\xfeO\\xb2j\\x8e`\\xf9\\nD\\xda\\x85\\xd7\\xcf\\x81\\xd84a\\xa5\\xcf\\x9c\\xc2\\xdaTt\\xa0y\\xb1\\x81*\\x819\\x1awJ\\x05$&\\'4\\xfe>\\\\\\xb0\"C\\x8c\\x19\\xd8)T\\xfd\\xe0\\xed\\x19\\x9b\\x18^u\\xd7\\xf9\\x9f\\xfe\\xfb\\xd0fy\\xa1\\xcd\\x84l\\x1el\\x88<\\xe0\\x7f\\xb1G\\xd8j\\xe9N\\x13\\xea\\x93F\\xc4\\xe9\\xa9\\xf9\\x80\\xccF\\xbb\\x9dc\\xb2\\xfe\\x1d&i\\r=\\xc3\\xe5\\xbe_'\n",
      "public_key: <cryptography.hazmat.backends.openssl.rsa._RSAPublicKey object at 0x7f366530d730>\n",
      "Mensaje descifrado: Hola, este es un mensaje secreto.\n"
     ]
    }
   ],
   "source": [
    "# Ejemplo de uso:\n",
    "private_key, public_key = generate_key_pair()\n",
    "private_key_path = 'private_key.pem'\n",
    "public_key_path = 'public_key.pem'\n",
    "\n",
    "# Almacenar las claves de forma segura en archivos PEM\n",
    "save_key_to_pem(private_key, 'private', private_key_path, password=b'mypassword')\n",
    "save_key_to_pem(public_key, 'public', public_key_path)\n",
    "\n",
    "# Encriptar y desencriptar datos\n",
    "message = \"Hola, este es un mensaje secreto.\"\n",
    "\n",
    "ciphertext = encrypt_data(public_key, message)\n",
    "print(\"Mensaje cifrado:\", ciphertext)\n",
    "\n",
    "del private_key, public_key\n",
    "\n",
    "private_key = read_private_key_from_pem(private_key_path, password=b'mypassword')\n",
    "public_key = read_public_key_from_pem(public_key_path)\n",
    "\n",
    "print(\"public_key:\", public_key)\n",
    "\n",
    "decrypted_message = decrypt_data(private_key, ciphertext)\n",
    "print(\"Mensaje descifrado:\", decrypted_message)\n",
    "\n"
   ]
  },
  {
   "cell_type": "code",
   "execution_count": 22,
   "id": "b489ed8e",
   "metadata": {},
   "outputs": [
    {
     "name": "stdout",
     "output_type": "stream",
     "text": [
      "Mensaje cifrado: b'\\xc3,\\xc8\\xe9\\xd4.D5\\xc5\\x0b\\x9e)o\\xa5\\xf8%Tb\\xc8\\xe7\\x06I\\xc6\\xd7\\xea\\x84?{\\rF\\x0cs\\xdc*\\x0f\\xe0>\\xd0\\xf6\\xb81.B\\x85\\xd1N\\x82\\x01\\xfcF\\xb3\\x91~f\\x94\\x8b\\x03\\xad\\xd8B\\xd5S\\x83\\xc8\\x9c\\xc2\\xcdn\\xe3\\xaf\\x97\\x89\\x08\\xdf\\x8c\\xa5\\x01\\xb0\\x8eZx\\xec\\x0bT\\xfda\\xdc\\x91o,&\\xabo\\xc5HT\\xb7\\x9a2Cw%\\xeeG\\xfc#iCr\\xa1\\xdd\\xcb\\x00\\x8b\\xc7`j\\xcb\\x0b56\\xc0\\xe2\\xb8\\xc5\\xee\\xcf\\x84\\xb7L\\x05\\x8a=\\xb7\\xab4\\r\\xd5\\x88\\xa2\\x82]h\\xd8\\x9c\\xa6\\xbb\\xc2\\x16\\xb1\\xd6~\\x87/=\\x02\\xa7M\\x9c\\xbf\\x0c\\x14?\\x9ch\\x85\\xa7\\x95\\x95Tn\\xa0U\\x8e\\x1d\\x8b\\x9e\\x13\\xd0j\\x16\\xea$x\\x13\\xe2o@\\xfd\\xcc\\x00\\xa4\\xcai\\x00T\\x00j\\xe8\\xf9`e9\\xb9\\xa8\\xac\\xa2(\\xec#Y\\xc6\\xc4\\xc7\\xe8\\xc2O\\xac\\xd2$`s2\\xa0\\xb5\\xc4B\\xf2\\xbfz\\xfa\\xc1\\xd5\\xc4p\\t\\xe2\\x1f\\xfaJ\\xa1\\x8bTq\\xc8\\xafr#\\xbd\\xa2\\x0b\\xccI\\xa4\\x08\\xb4'\n",
      "Mensaje descifrado: Hola, este es un mensaje secreto.\n"
     ]
    }
   ],
   "source": [
    "# Ejemplo de uso:\n",
    "private_key, public_key = generate_key_pair()\n",
    "\n",
    "# Almacenar las claves de forma segura en archivos PEM\n",
    "save_key_to_pem(private_key, 'private', 'private_key.pem')\n",
    "save_key_to_pem(public_key, 'public', 'public_key.pem')\n",
    "\n",
    "# Encriptar y desencriptar datos\n",
    "message = \"Hola, este es un mensaje secreto.\"\n",
    "\n",
    "ciphertext = encrypt_data(public_key, message)\n",
    "print(\"Mensaje cifrado:\", ciphertext)\n",
    "\n",
    "decrypted_message = decrypt_data(private_key, ciphertext)\n",
    "print(\"Mensaje descifrado:\", decrypted_message)"
   ]
  },
  {
   "cell_type": "code",
   "execution_count": null,
   "id": "e28e0c8d",
   "metadata": {},
   "outputs": [],
   "source": []
  }
 ],
 "metadata": {
  "kernelspec": {
   "display_name": "Python 3 (ipykernel)",
   "language": "python",
   "name": "python3"
  },
  "language_info": {
   "codemirror_mode": {
    "name": "ipython",
    "version": 3
   },
   "file_extension": ".py",
   "mimetype": "text/x-python",
   "name": "python",
   "nbconvert_exporter": "python",
   "pygments_lexer": "ipython3",
   "version": "3.9.12"
  }
 },
 "nbformat": 4,
 "nbformat_minor": 5
}
